{
 "cells": [
  {
   "cell_type": "code",
   "execution_count": 1,
   "id": "fe1fbbcc",
   "metadata": {
    "_cell_guid": "b1076dfc-b9ad-4769-8c92-a6c4dae69d19",
    "_uuid": "8f2839f25d086af736a60e9eeb907d3b93b6e0e5",
    "execution": {
     "iopub.execute_input": "2021-12-22T04:38:57.764334Z",
     "iopub.status.busy": "2021-12-22T04:38:57.763672Z",
     "iopub.status.idle": "2021-12-22T04:38:57.787317Z",
     "shell.execute_reply": "2021-12-22T04:38:57.787895Z",
     "shell.execute_reply.started": "2021-12-20T16:38:52.510065Z"
    },
    "papermill": {
     "duration": 0.066576,
     "end_time": "2021-12-22T04:38:57.788309",
     "exception": false,
     "start_time": "2021-12-22T04:38:57.721733",
     "status": "completed"
    },
    "tags": []
   },
   "outputs": [
    {
     "name": "stdout",
     "output_type": "stream",
     "text": [
      "/kaggle/input/heart-disease-prediction-using-logistic-regression/framingham.csv\n"
     ]
    }
   ],
   "source": [
    "# This Python 3 environment comes with many helpful analytics libraries installed\n",
    "# It is defined by the kaggle/python Docker image: https://github.com/kaggle/docker-python\n",
    "# For example, here's several helpful packages to load\n",
    "\n",
    "import numpy as np # linear algebra\n",
    "import pandas as pd # data processing, CSV file I/O (e.g. pd.read_csv)\n",
    "\n",
    "# Input data files are available in the read-only \"../input/\" directory\n",
    "# For example, running this (by clicking run or pressing Shift+Enter) will list all files under the input directory\n",
    "\n",
    "import os\n",
    "for dirname, _, filenames in os.walk('/kaggle/input'):\n",
    "    for filename in filenames:\n",
    "        print(os.path.join(dirname, filename))\n",
    "\n",
    "# You can write up to 20GB to the current directory (/kaggle/working/) that gets preserved as output when you create a version using \"Save & Run All\" \n",
    "# You can also write temporary files to /kaggle/temp/, but they won't be saved outside of the current session"
   ]
  },
  {
   "cell_type": "code",
   "execution_count": 2,
   "id": "d4756941",
   "metadata": {
    "execution": {
     "iopub.execute_input": "2021-12-22T04:38:57.845894Z",
     "iopub.status.busy": "2021-12-22T04:38:57.845080Z",
     "iopub.status.idle": "2021-12-22T04:38:57.898200Z",
     "shell.execute_reply": "2021-12-22T04:38:57.899283Z",
     "shell.execute_reply.started": "2021-12-20T16:38:58.210618Z"
    },
    "papermill": {
     "duration": 0.084662,
     "end_time": "2021-12-22T04:38:57.899503",
     "exception": false,
     "start_time": "2021-12-22T04:38:57.814841",
     "status": "completed"
    },
    "tags": []
   },
   "outputs": [
    {
     "data": {
      "text/html": [
       "<div>\n",
       "<style scoped>\n",
       "    .dataframe tbody tr th:only-of-type {\n",
       "        vertical-align: middle;\n",
       "    }\n",
       "\n",
       "    .dataframe tbody tr th {\n",
       "        vertical-align: top;\n",
       "    }\n",
       "\n",
       "    .dataframe thead th {\n",
       "        text-align: right;\n",
       "    }\n",
       "</style>\n",
       "<table border=\"1\" class=\"dataframe\">\n",
       "  <thead>\n",
       "    <tr style=\"text-align: right;\">\n",
       "      <th></th>\n",
       "      <th>male</th>\n",
       "      <th>age</th>\n",
       "      <th>education</th>\n",
       "      <th>currentSmoker</th>\n",
       "      <th>cigsPerDay</th>\n",
       "      <th>BPMeds</th>\n",
       "      <th>prevalentStroke</th>\n",
       "      <th>prevalentHyp</th>\n",
       "      <th>diabetes</th>\n",
       "      <th>totChol</th>\n",
       "      <th>sysBP</th>\n",
       "      <th>diaBP</th>\n",
       "      <th>BMI</th>\n",
       "      <th>heartRate</th>\n",
       "      <th>glucose</th>\n",
       "      <th>TenYearCHD</th>\n",
       "    </tr>\n",
       "  </thead>\n",
       "  <tbody>\n",
       "    <tr>\n",
       "      <th>0</th>\n",
       "      <td>1</td>\n",
       "      <td>39</td>\n",
       "      <td>4.0</td>\n",
       "      <td>0</td>\n",
       "      <td>0.0</td>\n",
       "      <td>0.0</td>\n",
       "      <td>0</td>\n",
       "      <td>0</td>\n",
       "      <td>0</td>\n",
       "      <td>195.0</td>\n",
       "      <td>106.0</td>\n",
       "      <td>70.0</td>\n",
       "      <td>26.97</td>\n",
       "      <td>80.0</td>\n",
       "      <td>77.0</td>\n",
       "      <td>0</td>\n",
       "    </tr>\n",
       "    <tr>\n",
       "      <th>1</th>\n",
       "      <td>0</td>\n",
       "      <td>46</td>\n",
       "      <td>2.0</td>\n",
       "      <td>0</td>\n",
       "      <td>0.0</td>\n",
       "      <td>0.0</td>\n",
       "      <td>0</td>\n",
       "      <td>0</td>\n",
       "      <td>0</td>\n",
       "      <td>250.0</td>\n",
       "      <td>121.0</td>\n",
       "      <td>81.0</td>\n",
       "      <td>28.73</td>\n",
       "      <td>95.0</td>\n",
       "      <td>76.0</td>\n",
       "      <td>0</td>\n",
       "    </tr>\n",
       "    <tr>\n",
       "      <th>2</th>\n",
       "      <td>1</td>\n",
       "      <td>48</td>\n",
       "      <td>1.0</td>\n",
       "      <td>1</td>\n",
       "      <td>20.0</td>\n",
       "      <td>0.0</td>\n",
       "      <td>0</td>\n",
       "      <td>0</td>\n",
       "      <td>0</td>\n",
       "      <td>245.0</td>\n",
       "      <td>127.5</td>\n",
       "      <td>80.0</td>\n",
       "      <td>25.34</td>\n",
       "      <td>75.0</td>\n",
       "      <td>70.0</td>\n",
       "      <td>0</td>\n",
       "    </tr>\n",
       "    <tr>\n",
       "      <th>3</th>\n",
       "      <td>0</td>\n",
       "      <td>61</td>\n",
       "      <td>3.0</td>\n",
       "      <td>1</td>\n",
       "      <td>30.0</td>\n",
       "      <td>0.0</td>\n",
       "      <td>0</td>\n",
       "      <td>1</td>\n",
       "      <td>0</td>\n",
       "      <td>225.0</td>\n",
       "      <td>150.0</td>\n",
       "      <td>95.0</td>\n",
       "      <td>28.58</td>\n",
       "      <td>65.0</td>\n",
       "      <td>103.0</td>\n",
       "      <td>1</td>\n",
       "    </tr>\n",
       "    <tr>\n",
       "      <th>4</th>\n",
       "      <td>0</td>\n",
       "      <td>46</td>\n",
       "      <td>3.0</td>\n",
       "      <td>1</td>\n",
       "      <td>23.0</td>\n",
       "      <td>0.0</td>\n",
       "      <td>0</td>\n",
       "      <td>0</td>\n",
       "      <td>0</td>\n",
       "      <td>285.0</td>\n",
       "      <td>130.0</td>\n",
       "      <td>84.0</td>\n",
       "      <td>23.10</td>\n",
       "      <td>85.0</td>\n",
       "      <td>85.0</td>\n",
       "      <td>0</td>\n",
       "    </tr>\n",
       "  </tbody>\n",
       "</table>\n",
       "</div>"
      ],
      "text/plain": [
       "   male  age  education  currentSmoker  cigsPerDay  BPMeds  prevalentStroke  \\\n",
       "0     1   39        4.0              0         0.0     0.0                0   \n",
       "1     0   46        2.0              0         0.0     0.0                0   \n",
       "2     1   48        1.0              1        20.0     0.0                0   \n",
       "3     0   61        3.0              1        30.0     0.0                0   \n",
       "4     0   46        3.0              1        23.0     0.0                0   \n",
       "\n",
       "   prevalentHyp  diabetes  totChol  sysBP  diaBP    BMI  heartRate  glucose  \\\n",
       "0             0         0    195.0  106.0   70.0  26.97       80.0     77.0   \n",
       "1             0         0    250.0  121.0   81.0  28.73       95.0     76.0   \n",
       "2             0         0    245.0  127.5   80.0  25.34       75.0     70.0   \n",
       "3             1         0    225.0  150.0   95.0  28.58       65.0    103.0   \n",
       "4             0         0    285.0  130.0   84.0  23.10       85.0     85.0   \n",
       "\n",
       "   TenYearCHD  \n",
       "0           0  \n",
       "1           0  \n",
       "2           0  \n",
       "3           1  \n",
       "4           0  "
      ]
     },
     "execution_count": 2,
     "metadata": {},
     "output_type": "execute_result"
    }
   ],
   "source": [
    "df = pd.read_csv('/kaggle/input/heart-disease-prediction-using-logistic-regression/framingham.csv')\n",
    "df.head()"
   ]
  },
  {
   "cell_type": "code",
   "execution_count": 3,
   "id": "9212e00c",
   "metadata": {
    "execution": {
     "iopub.execute_input": "2021-12-22T04:38:57.954426Z",
     "iopub.status.busy": "2021-12-22T04:38:57.953414Z",
     "iopub.status.idle": "2021-12-22T04:38:57.966982Z",
     "shell.execute_reply": "2021-12-22T04:38:57.967523Z",
     "shell.execute_reply.started": "2021-12-20T16:38:59.709701Z"
    },
    "papermill": {
     "duration": 0.042525,
     "end_time": "2021-12-22T04:38:57.967710",
     "exception": false,
     "start_time": "2021-12-22T04:38:57.925185",
     "status": "completed"
    },
    "tags": []
   },
   "outputs": [
    {
     "data": {
      "text/plain": [
       "0    4129\n",
       "1     109\n",
       "Name: diabetes, dtype: int64"
      ]
     },
     "execution_count": 3,
     "metadata": {},
     "output_type": "execute_result"
    }
   ],
   "source": [
    "df['diabetes'].value_counts()"
   ]
  },
  {
   "cell_type": "code",
   "execution_count": 4,
   "id": "b0f03054",
   "metadata": {
    "execution": {
     "iopub.execute_input": "2021-12-22T04:38:58.021846Z",
     "iopub.status.busy": "2021-12-22T04:38:58.020832Z",
     "iopub.status.idle": "2021-12-22T04:38:58.029468Z",
     "shell.execute_reply": "2021-12-22T04:38:58.029989Z",
     "shell.execute_reply.started": "2021-12-20T16:39:00.83986Z"
    },
    "papermill": {
     "duration": 0.03732,
     "end_time": "2021-12-22T04:38:58.030165",
     "exception": false,
     "start_time": "2021-12-22T04:38:57.992845",
     "status": "completed"
    },
    "tags": []
   },
   "outputs": [
    {
     "data": {
      "text/plain": [
       "male                 0\n",
       "age                  0\n",
       "education          105\n",
       "currentSmoker        0\n",
       "cigsPerDay          29\n",
       "BPMeds              53\n",
       "prevalentStroke      0\n",
       "prevalentHyp         0\n",
       "diabetes             0\n",
       "totChol             50\n",
       "sysBP                0\n",
       "diaBP                0\n",
       "BMI                 19\n",
       "heartRate            1\n",
       "glucose            388\n",
       "TenYearCHD           0\n",
       "dtype: int64"
      ]
     },
     "execution_count": 4,
     "metadata": {},
     "output_type": "execute_result"
    }
   ],
   "source": [
    "df.isna().sum()"
   ]
  },
  {
   "cell_type": "code",
   "execution_count": 5,
   "id": "a9fb3f6c",
   "metadata": {
    "execution": {
     "iopub.execute_input": "2021-12-22T04:38:58.086869Z",
     "iopub.status.busy": "2021-12-22T04:38:58.085866Z",
     "iopub.status.idle": "2021-12-22T04:38:58.091318Z",
     "shell.execute_reply": "2021-12-22T04:38:58.091929Z",
     "shell.execute_reply.started": "2021-12-20T16:39:03.739833Z"
    },
    "papermill": {
     "duration": 0.036727,
     "end_time": "2021-12-22T04:38:58.092104",
     "exception": false,
     "start_time": "2021-12-22T04:38:58.055377",
     "status": "completed"
    },
    "tags": []
   },
   "outputs": [
    {
     "data": {
      "text/plain": [
       "67808"
      ]
     },
     "execution_count": 5,
     "metadata": {},
     "output_type": "execute_result"
    }
   ],
   "source": [
    "df.size"
   ]
  },
  {
   "cell_type": "code",
   "execution_count": 6,
   "id": "228bbea3",
   "metadata": {
    "execution": {
     "iopub.execute_input": "2021-12-22T04:38:58.147870Z",
     "iopub.status.busy": "2021-12-22T04:38:58.146872Z",
     "iopub.status.idle": "2021-12-22T04:38:58.157485Z",
     "shell.execute_reply": "2021-12-22T04:38:58.158085Z",
     "shell.execute_reply.started": "2021-12-20T16:39:05.650831Z"
    },
    "papermill": {
     "duration": 0.040008,
     "end_time": "2021-12-22T04:38:58.158269",
     "exception": false,
     "start_time": "2021-12-22T04:38:58.118261",
     "status": "completed"
    },
    "tags": []
   },
   "outputs": [],
   "source": [
    "df['education'] = df['education'].fillna(df['education'].mean())\n",
    "df['cigsPerDay'] = df['cigsPerDay'].fillna(df['cigsPerDay'].mean())\n",
    "df['BPMeds']  = df['BPMeds'].fillna(df['BPMeds'].mean())\n",
    "df['totChol']  = df['totChol'].fillna(df['totChol'].mean())\n",
    "df['BMI']  = df['BMI'].fillna(df['BMI'].mean())\n",
    "df['heartRate']  = df['heartRate'].fillna(df['heartRate'].mean())\n",
    "df['glucose']  = df['glucose'].fillna(df['glucose'].mean())"
   ]
  },
  {
   "cell_type": "code",
   "execution_count": 7,
   "id": "7ebf8e60",
   "metadata": {
    "execution": {
     "iopub.execute_input": "2021-12-22T04:38:58.213689Z",
     "iopub.status.busy": "2021-12-22T04:38:58.212663Z",
     "iopub.status.idle": "2021-12-22T04:38:58.233733Z",
     "shell.execute_reply": "2021-12-22T04:38:58.233172Z",
     "shell.execute_reply.started": "2021-12-20T16:39:13.520746Z"
    },
    "papermill": {
     "duration": 0.049773,
     "end_time": "2021-12-22T04:38:58.233873",
     "exception": false,
     "start_time": "2021-12-22T04:38:58.184100",
     "status": "completed"
    },
    "tags": []
   },
   "outputs": [
    {
     "data": {
      "text/html": [
       "<div>\n",
       "<style scoped>\n",
       "    .dataframe tbody tr th:only-of-type {\n",
       "        vertical-align: middle;\n",
       "    }\n",
       "\n",
       "    .dataframe tbody tr th {\n",
       "        vertical-align: top;\n",
       "    }\n",
       "\n",
       "    .dataframe thead th {\n",
       "        text-align: right;\n",
       "    }\n",
       "</style>\n",
       "<table border=\"1\" class=\"dataframe\">\n",
       "  <thead>\n",
       "    <tr style=\"text-align: right;\">\n",
       "      <th></th>\n",
       "      <th>male</th>\n",
       "      <th>age</th>\n",
       "      <th>education</th>\n",
       "      <th>currentSmoker</th>\n",
       "      <th>cigsPerDay</th>\n",
       "      <th>BPMeds</th>\n",
       "      <th>prevalentStroke</th>\n",
       "      <th>prevalentHyp</th>\n",
       "      <th>diabetes</th>\n",
       "      <th>totChol</th>\n",
       "      <th>sysBP</th>\n",
       "      <th>diaBP</th>\n",
       "      <th>BMI</th>\n",
       "      <th>heartRate</th>\n",
       "      <th>glucose</th>\n",
       "      <th>TenYearCHD</th>\n",
       "    </tr>\n",
       "  </thead>\n",
       "  <tbody>\n",
       "    <tr>\n",
       "      <th>0</th>\n",
       "      <td>1</td>\n",
       "      <td>39</td>\n",
       "      <td>4.0</td>\n",
       "      <td>0</td>\n",
       "      <td>0.0</td>\n",
       "      <td>0.0</td>\n",
       "      <td>0</td>\n",
       "      <td>0</td>\n",
       "      <td>0</td>\n",
       "      <td>195.0</td>\n",
       "      <td>106.0</td>\n",
       "      <td>70.0</td>\n",
       "      <td>26.97</td>\n",
       "      <td>80.0</td>\n",
       "      <td>77.0</td>\n",
       "      <td>0</td>\n",
       "    </tr>\n",
       "    <tr>\n",
       "      <th>1</th>\n",
       "      <td>0</td>\n",
       "      <td>46</td>\n",
       "      <td>2.0</td>\n",
       "      <td>0</td>\n",
       "      <td>0.0</td>\n",
       "      <td>0.0</td>\n",
       "      <td>0</td>\n",
       "      <td>0</td>\n",
       "      <td>0</td>\n",
       "      <td>250.0</td>\n",
       "      <td>121.0</td>\n",
       "      <td>81.0</td>\n",
       "      <td>28.73</td>\n",
       "      <td>95.0</td>\n",
       "      <td>76.0</td>\n",
       "      <td>0</td>\n",
       "    </tr>\n",
       "    <tr>\n",
       "      <th>2</th>\n",
       "      <td>1</td>\n",
       "      <td>48</td>\n",
       "      <td>1.0</td>\n",
       "      <td>1</td>\n",
       "      <td>20.0</td>\n",
       "      <td>0.0</td>\n",
       "      <td>0</td>\n",
       "      <td>0</td>\n",
       "      <td>0</td>\n",
       "      <td>245.0</td>\n",
       "      <td>127.5</td>\n",
       "      <td>80.0</td>\n",
       "      <td>25.34</td>\n",
       "      <td>75.0</td>\n",
       "      <td>70.0</td>\n",
       "      <td>0</td>\n",
       "    </tr>\n",
       "    <tr>\n",
       "      <th>3</th>\n",
       "      <td>0</td>\n",
       "      <td>61</td>\n",
       "      <td>3.0</td>\n",
       "      <td>1</td>\n",
       "      <td>30.0</td>\n",
       "      <td>0.0</td>\n",
       "      <td>0</td>\n",
       "      <td>1</td>\n",
       "      <td>0</td>\n",
       "      <td>225.0</td>\n",
       "      <td>150.0</td>\n",
       "      <td>95.0</td>\n",
       "      <td>28.58</td>\n",
       "      <td>65.0</td>\n",
       "      <td>103.0</td>\n",
       "      <td>1</td>\n",
       "    </tr>\n",
       "    <tr>\n",
       "      <th>4</th>\n",
       "      <td>0</td>\n",
       "      <td>46</td>\n",
       "      <td>3.0</td>\n",
       "      <td>1</td>\n",
       "      <td>23.0</td>\n",
       "      <td>0.0</td>\n",
       "      <td>0</td>\n",
       "      <td>0</td>\n",
       "      <td>0</td>\n",
       "      <td>285.0</td>\n",
       "      <td>130.0</td>\n",
       "      <td>84.0</td>\n",
       "      <td>23.10</td>\n",
       "      <td>85.0</td>\n",
       "      <td>85.0</td>\n",
       "      <td>0</td>\n",
       "    </tr>\n",
       "  </tbody>\n",
       "</table>\n",
       "</div>"
      ],
      "text/plain": [
       "   male  age  education  currentSmoker  cigsPerDay  BPMeds  prevalentStroke  \\\n",
       "0     1   39        4.0              0         0.0     0.0                0   \n",
       "1     0   46        2.0              0         0.0     0.0                0   \n",
       "2     1   48        1.0              1        20.0     0.0                0   \n",
       "3     0   61        3.0              1        30.0     0.0                0   \n",
       "4     0   46        3.0              1        23.0     0.0                0   \n",
       "\n",
       "   prevalentHyp  diabetes  totChol  sysBP  diaBP    BMI  heartRate  glucose  \\\n",
       "0             0         0    195.0  106.0   70.0  26.97       80.0     77.0   \n",
       "1             0         0    250.0  121.0   81.0  28.73       95.0     76.0   \n",
       "2             0         0    245.0  127.5   80.0  25.34       75.0     70.0   \n",
       "3             1         0    225.0  150.0   95.0  28.58       65.0    103.0   \n",
       "4             0         0    285.0  130.0   84.0  23.10       85.0     85.0   \n",
       "\n",
       "   TenYearCHD  \n",
       "0           0  \n",
       "1           0  \n",
       "2           0  \n",
       "3           1  \n",
       "4           0  "
      ]
     },
     "execution_count": 7,
     "metadata": {},
     "output_type": "execute_result"
    }
   ],
   "source": [
    "df.head()"
   ]
  },
  {
   "cell_type": "code",
   "execution_count": 8,
   "id": "e5f7e07a",
   "metadata": {
    "execution": {
     "iopub.execute_input": "2021-12-22T04:38:58.290903Z",
     "iopub.status.busy": "2021-12-22T04:38:58.289922Z",
     "iopub.status.idle": "2021-12-22T04:38:58.715765Z",
     "shell.execute_reply": "2021-12-22T04:38:58.716307Z",
     "shell.execute_reply.started": "2021-12-20T16:39:50.550338Z"
    },
    "papermill": {
     "duration": 0.4564,
     "end_time": "2021-12-22T04:38:58.716529",
     "exception": false,
     "start_time": "2021-12-22T04:38:58.260129",
     "status": "completed"
    },
    "tags": []
   },
   "outputs": [
    {
     "data": {
      "text/plain": [
       "Text(0.5, 1.0, 'systole and diastole bp correlation')"
      ]
     },
     "execution_count": 8,
     "metadata": {},
     "output_type": "execute_result"
    },
    {
     "data": {
      "image/png": "[encoded data removed]",
      "text/plain": [
       "<Figure size 432x288 with 1 Axes>"
      ]
     },
     "metadata": {
      "needs_background": "light"
     },
     "output_type": "display_data"
    }
   ],
   "source": [
    "import matplotlib.pyplot as plt\n",
    "plt.scatter(x = df.sysBP[df.TenYearCHD == 1], y = df.diaBP[df.TenYearCHD == 1], c = 'red')\n",
    "plt.scatter(x = df.sysBP[df.TenYearCHD == 0], y = df.diaBP[df.TenYearCHD == 0], c = 'blue')\n",
    "plt.legend(['Disease', 'Not Disease'])\n",
    "plt.xlabel('sysBP')\n",
    "plt.ylabel('diaBP')\n",
    "plt.title('systole and diastole bp correlation')"
   ]
  },
  {
   "cell_type": "code",
   "execution_count": 9,
   "id": "16fae191",
   "metadata": {
    "execution": {
     "iopub.execute_input": "2021-12-22T04:38:58.778324Z",
     "iopub.status.busy": "2021-12-22T04:38:58.777562Z",
     "iopub.status.idle": "2021-12-22T04:38:58.810489Z",
     "shell.execute_reply": "2021-12-22T04:38:58.811028Z",
     "shell.execute_reply.started": "2021-12-20T16:39:57.369969Z"
    },
    "papermill": {
     "duration": 0.0669,
     "end_time": "2021-12-22T04:38:58.811204",
     "exception": false,
     "start_time": "2021-12-22T04:38:58.744304",
     "status": "completed"
    },
    "tags": []
   },
   "outputs": [
    {
     "data": {
      "text/html": [
       "<div>\n",
       "<style scoped>\n",
       "    .dataframe tbody tr th:only-of-type {\n",
       "        vertical-align: middle;\n",
       "    }\n",
       "\n",
       "    .dataframe tbody tr th {\n",
       "        vertical-align: top;\n",
       "    }\n",
       "\n",
       "    .dataframe thead th {\n",
       "        text-align: right;\n",
       "    }\n",
       "</style>\n",
       "<table border=\"1\" class=\"dataframe\">\n",
       "  <thead>\n",
       "    <tr style=\"text-align: right;\">\n",
       "      <th></th>\n",
       "      <th>male</th>\n",
       "      <th>age</th>\n",
       "      <th>education</th>\n",
       "      <th>currentSmoker</th>\n",
       "      <th>cigsPerDay</th>\n",
       "      <th>BPMeds</th>\n",
       "      <th>prevalentStroke</th>\n",
       "      <th>prevalentHyp</th>\n",
       "      <th>diabetes</th>\n",
       "      <th>totChol</th>\n",
       "      <th>sysBP</th>\n",
       "      <th>diaBP</th>\n",
       "      <th>BMI</th>\n",
       "      <th>heartRate</th>\n",
       "      <th>glucose</th>\n",
       "      <th>TenYearCHD</th>\n",
       "    </tr>\n",
       "  </thead>\n",
       "  <tbody>\n",
       "    <tr>\n",
       "      <th>male</th>\n",
       "      <td>1.000000</td>\n",
       "      <td>-0.028979</td>\n",
       "      <td>0.017126</td>\n",
       "      <td>0.197596</td>\n",
       "      <td>0.316807</td>\n",
       "      <td>-0.052204</td>\n",
       "      <td>-0.004546</td>\n",
       "      <td>0.005313</td>\n",
       "      <td>0.015708</td>\n",
       "      <td>-0.069974</td>\n",
       "      <td>-0.035989</td>\n",
       "      <td>0.057933</td>\n",
       "      <td>0.081506</td>\n",
       "      <td>-0.116601</td>\n",
       "      <td>0.005818</td>\n",
       "      <td>0.088428</td>\n",
       "    </tr>\n",
       "    <tr>\n",
       "      <th>age</th>\n",
       "      <td>-0.028979</td>\n",
       "      <td>1.000000</td>\n",
       "      <td>-0.163613</td>\n",
       "      <td>-0.213748</td>\n",
       "      <td>-0.192366</td>\n",
       "      <td>0.121980</td>\n",
       "      <td>0.057655</td>\n",
       "      <td>0.307194</td>\n",
       "      <td>0.101258</td>\n",
       "      <td>0.260270</td>\n",
       "      <td>0.394302</td>\n",
       "      <td>0.206104</td>\n",
       "      <td>0.135283</td>\n",
       "      <td>-0.012819</td>\n",
       "      <td>0.116850</td>\n",
       "      <td>0.225256</td>\n",
       "    </tr>\n",
       "    <tr>\n",
       "      <th>education</th>\n",
       "      <td>0.017126</td>\n",
       "      <td>-0.163613</td>\n",
       "      <td>1.000000</td>\n",
       "      <td>0.018301</td>\n",
       "      <td>0.007962</td>\n",
       "      <td>-0.010607</td>\n",
       "      <td>-0.035110</td>\n",
       "      <td>-0.080993</td>\n",
       "      <td>-0.038146</td>\n",
       "      <td>-0.022507</td>\n",
       "      <td>-0.128260</td>\n",
       "      <td>-0.061755</td>\n",
       "      <td>-0.135635</td>\n",
       "      <td>-0.053626</td>\n",
       "      <td>-0.033721</td>\n",
       "      <td>-0.053384</td>\n",
       "    </tr>\n",
       "    <tr>\n",
       "      <th>currentSmoker</th>\n",
       "      <td>0.197596</td>\n",
       "      <td>-0.213748</td>\n",
       "      <td>0.018301</td>\n",
       "      <td>1.000000</td>\n",
       "      <td>0.766970</td>\n",
       "      <td>-0.048632</td>\n",
       "      <td>-0.032988</td>\n",
       "      <td>-0.103260</td>\n",
       "      <td>-0.044295</td>\n",
       "      <td>-0.046285</td>\n",
       "      <td>-0.130230</td>\n",
       "      <td>-0.107746</td>\n",
       "      <td>-0.167276</td>\n",
       "      <td>0.062348</td>\n",
       "      <td>-0.054157</td>\n",
       "      <td>0.019456</td>\n",
       "    </tr>\n",
       "    <tr>\n",
       "      <th>cigsPerDay</th>\n",
       "      <td>0.316807</td>\n",
       "      <td>-0.192366</td>\n",
       "      <td>0.007962</td>\n",
       "      <td>0.766970</td>\n",
       "      <td>1.000000</td>\n",
       "      <td>-0.045826</td>\n",
       "      <td>-0.032706</td>\n",
       "      <td>-0.065947</td>\n",
       "      <td>-0.037063</td>\n",
       "      <td>-0.026025</td>\n",
       "      <td>-0.088505</td>\n",
       "      <td>-0.056391</td>\n",
       "      <td>-0.092453</td>\n",
       "      <td>0.074851</td>\n",
       "      <td>-0.056088</td>\n",
       "      <td>0.057775</td>\n",
       "    </tr>\n",
       "    <tr>\n",
       "      <th>BPMeds</th>\n",
       "      <td>-0.052204</td>\n",
       "      <td>0.121980</td>\n",
       "      <td>-0.010607</td>\n",
       "      <td>-0.048632</td>\n",
       "      <td>-0.045826</td>\n",
       "      <td>1.000000</td>\n",
       "      <td>0.115003</td>\n",
       "      <td>0.259243</td>\n",
       "      <td>0.051571</td>\n",
       "      <td>0.078909</td>\n",
       "      <td>0.252047</td>\n",
       "      <td>0.192490</td>\n",
       "      <td>0.099552</td>\n",
       "      <td>0.015175</td>\n",
       "      <td>0.048905</td>\n",
       "      <td>0.086774</td>\n",
       "    </tr>\n",
       "    <tr>\n",
       "      <th>prevalentStroke</th>\n",
       "      <td>-0.004546</td>\n",
       "      <td>0.057655</td>\n",
       "      <td>-0.035110</td>\n",
       "      <td>-0.032988</td>\n",
       "      <td>-0.032706</td>\n",
       "      <td>0.115003</td>\n",
       "      <td>1.000000</td>\n",
       "      <td>0.074830</td>\n",
       "      <td>0.006949</td>\n",
       "      <td>0.000067</td>\n",
       "      <td>0.057009</td>\n",
       "      <td>0.045190</td>\n",
       "      <td>0.024840</td>\n",
       "      <td>-0.017676</td>\n",
       "      <td>0.018055</td>\n",
       "      <td>0.061810</td>\n",
       "    </tr>\n",
       "    <tr>\n",
       "      <th>prevalentHyp</th>\n",
       "      <td>0.005313</td>\n",
       "      <td>0.307194</td>\n",
       "      <td>-0.080993</td>\n",
       "      <td>-0.103260</td>\n",
       "      <td>-0.065947</td>\n",
       "      <td>0.259243</td>\n",
       "      <td>0.074830</td>\n",
       "      <td>1.000000</td>\n",
       "      <td>0.077808</td>\n",
       "      <td>0.163041</td>\n",
       "      <td>0.696755</td>\n",
       "      <td>0.615751</td>\n",
       "      <td>0.300572</td>\n",
       "      <td>0.147222</td>\n",
       "      <td>0.082924</td>\n",
       "      <td>0.177603</td>\n",
       "    </tr>\n",
       "    <tr>\n",
       "      <th>diabetes</th>\n",
       "      <td>0.015708</td>\n",
       "      <td>0.101258</td>\n",
       "      <td>-0.038146</td>\n",
       "      <td>-0.044295</td>\n",
       "      <td>-0.037063</td>\n",
       "      <td>0.051571</td>\n",
       "      <td>0.006949</td>\n",
       "      <td>0.077808</td>\n",
       "      <td>1.000000</td>\n",
       "      <td>0.040092</td>\n",
       "      <td>0.111283</td>\n",
       "      <td>0.050329</td>\n",
       "      <td>0.086250</td>\n",
       "      <td>0.048993</td>\n",
       "      <td>0.605705</td>\n",
       "      <td>0.097317</td>\n",
       "    </tr>\n",
       "    <tr>\n",
       "      <th>totChol</th>\n",
       "      <td>-0.069974</td>\n",
       "      <td>0.260270</td>\n",
       "      <td>-0.022507</td>\n",
       "      <td>-0.046285</td>\n",
       "      <td>-0.026025</td>\n",
       "      <td>0.078909</td>\n",
       "      <td>0.000067</td>\n",
       "      <td>0.163041</td>\n",
       "      <td>0.040092</td>\n",
       "      <td>1.000000</td>\n",
       "      <td>0.207609</td>\n",
       "      <td>0.163903</td>\n",
       "      <td>0.114789</td>\n",
       "      <td>0.090676</td>\n",
       "      <td>0.044583</td>\n",
       "      <td>0.081624</td>\n",
       "    </tr>\n",
       "    <tr>\n",
       "      <th>sysBP</th>\n",
       "      <td>-0.035989</td>\n",
       "      <td>0.394302</td>\n",
       "      <td>-0.128260</td>\n",
       "      <td>-0.130230</td>\n",
       "      <td>-0.088505</td>\n",
       "      <td>0.252047</td>\n",
       "      <td>0.057009</td>\n",
       "      <td>0.696755</td>\n",
       "      <td>0.111283</td>\n",
       "      <td>0.207609</td>\n",
       "      <td>1.000000</td>\n",
       "      <td>0.784002</td>\n",
       "      <td>0.325247</td>\n",
       "      <td>0.182174</td>\n",
       "      <td>0.134608</td>\n",
       "      <td>0.216429</td>\n",
       "    </tr>\n",
       "    <tr>\n",
       "      <th>diaBP</th>\n",
       "      <td>0.057933</td>\n",
       "      <td>0.206104</td>\n",
       "      <td>-0.061755</td>\n",
       "      <td>-0.107746</td>\n",
       "      <td>-0.056391</td>\n",
       "      <td>0.192490</td>\n",
       "      <td>0.045190</td>\n",
       "      <td>0.615751</td>\n",
       "      <td>0.050329</td>\n",
       "      <td>0.163903</td>\n",
       "      <td>0.784002</td>\n",
       "      <td>1.000000</td>\n",
       "      <td>0.376544</td>\n",
       "      <td>0.181246</td>\n",
       "      <td>0.058647</td>\n",
       "      <td>0.145299</td>\n",
       "    </tr>\n",
       "    <tr>\n",
       "      <th>BMI</th>\n",
       "      <td>0.081506</td>\n",
       "      <td>0.135283</td>\n",
       "      <td>-0.135635</td>\n",
       "      <td>-0.167276</td>\n",
       "      <td>-0.092453</td>\n",
       "      <td>0.099552</td>\n",
       "      <td>0.024840</td>\n",
       "      <td>0.300572</td>\n",
       "      <td>0.086250</td>\n",
       "      <td>0.114789</td>\n",
       "      <td>0.325247</td>\n",
       "      <td>0.376544</td>\n",
       "      <td>1.000000</td>\n",
       "      <td>0.067544</td>\n",
       "      <td>0.082109</td>\n",
       "      <td>0.074680</td>\n",
       "    </tr>\n",
       "    <tr>\n",
       "      <th>heartRate</th>\n",
       "      <td>-0.116601</td>\n",
       "      <td>-0.012819</td>\n",
       "      <td>-0.053626</td>\n",
       "      <td>0.062348</td>\n",
       "      <td>0.074851</td>\n",
       "      <td>0.015175</td>\n",
       "      <td>-0.017676</td>\n",
       "      <td>0.147222</td>\n",
       "      <td>0.048993</td>\n",
       "      <td>0.090676</td>\n",
       "      <td>0.182174</td>\n",
       "      <td>0.181246</td>\n",
       "      <td>0.067544</td>\n",
       "      <td>1.000000</td>\n",
       "      <td>0.089341</td>\n",
       "      <td>0.022898</td>\n",
       "    </tr>\n",
       "    <tr>\n",
       "      <th>glucose</th>\n",
       "      <td>0.005818</td>\n",
       "      <td>0.116850</td>\n",
       "      <td>-0.033721</td>\n",
       "      <td>-0.054157</td>\n",
       "      <td>-0.056088</td>\n",
       "      <td>0.048905</td>\n",
       "      <td>0.018055</td>\n",
       "      <td>0.082924</td>\n",
       "      <td>0.605705</td>\n",
       "      <td>0.044583</td>\n",
       "      <td>0.134608</td>\n",
       "      <td>0.058647</td>\n",
       "      <td>0.082109</td>\n",
       "      <td>0.089341</td>\n",
       "      <td>1.000000</td>\n",
       "      <td>0.120406</td>\n",
       "    </tr>\n",
       "    <tr>\n",
       "      <th>TenYearCHD</th>\n",
       "      <td>0.088428</td>\n",
       "      <td>0.225256</td>\n",
       "      <td>-0.053384</td>\n",
       "      <td>0.019456</td>\n",
       "      <td>0.057775</td>\n",
       "      <td>0.086774</td>\n",
       "      <td>0.061810</td>\n",
       "      <td>0.177603</td>\n",
       "      <td>0.097317</td>\n",
       "      <td>0.081624</td>\n",
       "      <td>0.216429</td>\n",
       "      <td>0.145299</td>\n",
       "      <td>0.074680</td>\n",
       "      <td>0.022898</td>\n",
       "      <td>0.120406</td>\n",
       "      <td>1.000000</td>\n",
       "    </tr>\n",
       "  </tbody>\n",
       "</table>\n",
       "</div>"
      ],
      "text/plain": [
       "                     male       age  education  currentSmoker  cigsPerDay  \\\n",
       "male             1.000000 -0.028979   0.017126       0.197596    0.316807   \n",
       "age             -0.028979  1.000000  -0.163613      -0.213748   -0.192366   \n",
       "education        0.017126 -0.163613   1.000000       0.018301    0.007962   \n",
       "currentSmoker    0.197596 -0.213748   0.018301       1.000000    0.766970   \n",
       "cigsPerDay       0.316807 -0.192366   0.007962       0.766970    1.000000   \n",
       "BPMeds          -0.052204  0.121980  -0.010607      -0.048632   -0.045826   \n",
       "prevalentStroke -0.004546  0.057655  -0.035110      -0.032988   -0.032706   \n",
       "prevalentHyp     0.005313  0.307194  -0.080993      -0.103260   -0.065947   \n",
       "diabetes         0.015708  0.101258  -0.038146      -0.044295   -0.037063   \n",
       "totChol         -0.069974  0.260270  -0.022507      -0.046285   -0.026025   \n",
       "sysBP           -0.035989  0.394302  -0.128260      -0.130230   -0.088505   \n",
       "diaBP            0.057933  0.206104  -0.061755      -0.107746   -0.056391   \n",
       "BMI              0.081506  0.135283  -0.135635      -0.167276   -0.092453   \n",
       "heartRate       -0.116601 -0.012819  -0.053626       0.062348    0.074851   \n",
       "glucose          0.005818  0.116850  -0.033721      -0.054157   -0.056088   \n",
       "TenYearCHD       0.088428  0.225256  -0.053384       0.019456    0.057775   \n",
       "\n",
       "                   BPMeds  prevalentStroke  prevalentHyp  diabetes   totChol  \\\n",
       "male            -0.052204        -0.004546      0.005313  0.015708 -0.069974   \n",
       "age              0.121980         0.057655      0.307194  0.101258  0.260270   \n",
       "education       -0.010607        -0.035110     -0.080993 -0.038146 -0.022507   \n",
       "currentSmoker   -0.048632        -0.032988     -0.103260 -0.044295 -0.046285   \n",
       "cigsPerDay      -0.045826        -0.032706     -0.065947 -0.037063 -0.026025   \n",
       "BPMeds           1.000000         0.115003      0.259243  0.051571  0.078909   \n",
       "prevalentStroke  0.115003         1.000000      0.074830  0.006949  0.000067   \n",
       "prevalentHyp     0.259243         0.074830      1.000000  0.077808  0.163041   \n",
       "diabetes         0.051571         0.006949      0.077808  1.000000  0.040092   \n",
       "totChol          0.078909         0.000067      0.163041  0.040092  1.000000   \n",
       "sysBP            0.252047         0.057009      0.696755  0.111283  0.207609   \n",
       "diaBP            0.192490         0.045190      0.615751  0.050329  0.163903   \n",
       "BMI              0.099552         0.024840      0.300572  0.086250  0.114789   \n",
       "heartRate        0.015175        -0.017676      0.147222  0.048993  0.090676   \n",
       "glucose          0.048905         0.018055      0.082924  0.605705  0.044583   \n",
       "TenYearCHD       0.086774         0.061810      0.177603  0.097317  0.081624   \n",
       "\n",
       "                    sysBP     diaBP       BMI  heartRate   glucose  TenYearCHD  \n",
       "male            -0.035989  0.057933  0.081506  -0.116601  0.005818    0.088428  \n",
       "age              0.394302  0.206104  0.135283  -0.012819  0.116850    0.225256  \n",
       "education       -0.128260 -0.061755 -0.135635  -0.053626 -0.033721   -0.053384  \n",
       "currentSmoker   -0.130230 -0.107746 -0.167276   0.062348 -0.054157    0.019456  \n",
       "cigsPerDay      -0.088505 -0.056391 -0.092453   0.074851 -0.056088    0.057775  \n",
       "BPMeds           0.252047  0.192490  0.099552   0.015175  0.048905    0.086774  \n",
       "prevalentStroke  0.057009  0.045190  0.024840  -0.017676  0.018055    0.061810  \n",
       "prevalentHyp     0.696755  0.615751  0.300572   0.147222  0.082924    0.177603  \n",
       "diabetes         0.111283  0.050329  0.086250   0.048993  0.605705    0.097317  \n",
       "totChol          0.207609  0.163903  0.114789   0.090676  0.044583    0.081624  \n",
       "sysBP            1.000000  0.784002  0.325247   0.182174  0.134608    0.216429  \n",
       "diaBP            0.784002  1.000000  0.376544   0.181246  0.058647    0.145299  \n",
       "BMI              0.325247  0.376544  1.000000   0.067544  0.082109    0.074680  \n",
       "heartRate        0.182174  0.181246  0.067544   1.000000  0.089341    0.022898  \n",
       "glucose          0.134608  0.058647  0.082109   0.089341  1.000000    0.120406  \n",
       "TenYearCHD       0.216429  0.145299  0.074680   0.022898  0.120406    1.000000  "
      ]
     },
     "execution_count": 9,
     "metadata": {},
     "output_type": "execute_result"
    }
   ],
   "source": [
    "df.corr()"
   ]
  },
  {
   "cell_type": "code",
   "execution_count": 10,
   "id": "1ace4196",
   "metadata": {
    "execution": {
     "iopub.execute_input": "2021-12-22T04:38:58.874810Z",
     "iopub.status.busy": "2021-12-22T04:38:58.874045Z",
     "iopub.status.idle": "2021-12-22T04:38:59.971869Z",
     "shell.execute_reply": "2021-12-22T04:38:59.970216Z",
     "shell.execute_reply.started": "2021-12-20T16:40:09.580475Z"
    },
    "papermill": {
     "duration": 1.130795,
     "end_time": "2021-12-22T04:38:59.972049",
     "exception": false,
     "start_time": "2021-12-22T04:38:58.841254",
     "status": "completed"
    },
    "tags": []
   },
   "outputs": [],
   "source": [
    "import seaborn as sns\n",
    "# sns.pairplot(df)"
   ]
  },
  {
   "cell_type": "code",
   "execution_count": 11,
   "id": "48201810",
   "metadata": {
    "execution": {
     "iopub.execute_input": "2021-12-22T04:39:00.038197Z",
     "iopub.status.busy": "2021-12-22T04:39:00.037256Z",
     "iopub.status.idle": "2021-12-22T04:39:00.519339Z",
     "shell.execute_reply": "2021-12-22T04:39:00.518797Z",
     "shell.execute_reply.started": "2021-12-20T16:40:10.394547Z"
    },
    "papermill": {
     "duration": 0.517012,
     "end_time": "2021-12-22T04:39:00.519518",
     "exception": false,
     "start_time": "2021-12-22T04:39:00.002506",
     "status": "completed"
    },
    "tags": []
   },
   "outputs": [
    {
     "data": {
      "text/plain": [
       "<AxesSubplot:>"
      ]
     },
     "execution_count": 11,
     "metadata": {},
     "output_type": "execute_result"
    },
    {
     "data": {
      "image/png": "[encoded data removed]",
      "text/plain": [
       "<Figure size 432x288 with 2 Axes>"
      ]
     },
     "metadata": {
      "needs_background": "light"
     },
     "output_type": "display_data"
    }
   ],
   "source": [
    "sns.heatmap(df.corr())"
   ]
  },
  {
   "cell_type": "code",
   "execution_count": 12,
   "id": "fb17d08c",
   "metadata": {
    "execution": {
     "iopub.execute_input": "2021-12-22T04:39:00.583799Z",
     "iopub.status.busy": "2021-12-22T04:39:00.583096Z",
     "iopub.status.idle": "2021-12-22T04:39:00.588532Z",
     "shell.execute_reply": "2021-12-22T04:39:00.589116Z",
     "shell.execute_reply.started": "2021-12-20T16:40:11.7495Z"
    },
    "papermill": {
     "duration": 0.039762,
     "end_time": "2021-12-22T04:39:00.589293",
     "exception": false,
     "start_time": "2021-12-22T04:39:00.549531",
     "status": "completed"
    },
    "tags": []
   },
   "outputs": [
    {
     "data": {
      "text/plain": [
       "Index(['male', 'age', 'education', 'currentSmoker', 'cigsPerDay', 'BPMeds',\n",
       "       'prevalentStroke', 'prevalentHyp', 'diabetes', 'totChol', 'sysBP',\n",
       "       'diaBP', 'BMI', 'heartRate', 'glucose', 'TenYearCHD'],\n",
       "      dtype='object')"
      ]
     },
     "execution_count": 12,
     "metadata": {},
     "output_type": "execute_result"
    }
   ],
   "source": [
    "df.columns"
   ]
  },
  {
   "cell_type": "code",
   "execution_count": 13,
   "id": "644e2865",
   "metadata": {
    "execution": {
     "iopub.execute_input": "2021-12-22T04:39:00.658114Z",
     "iopub.status.busy": "2021-12-22T04:39:00.655080Z",
     "iopub.status.idle": "2021-12-22T04:39:01.166537Z",
     "shell.execute_reply": "2021-12-22T04:39:01.167212Z",
     "shell.execute_reply.started": "2021-12-20T16:40:15.235246Z"
    },
    "papermill": {
     "duration": 0.547754,
     "end_time": "2021-12-22T04:39:01.167444",
     "exception": false,
     "start_time": "2021-12-22T04:39:00.619690",
     "status": "completed"
    },
    "tags": []
   },
   "outputs": [
    {
     "data": {
      "text/plain": [
       "<AxesSubplot:>"
      ]
     },
     "execution_count": 13,
     "metadata": {},
     "output_type": "execute_result"
    },
    {
     "data": {
      "image/png": "[encoded data removed]",
      "text/plain": [
       "<Figure size 864x576 with 2 Axes>"
      ]
     },
     "metadata": {
      "needs_background": "light"
     },
     "output_type": "display_data"
    }
   ],
   "source": [
    "import matplotlib.pyplot as plt\n",
    "corr = df.corr()\n",
    "\n",
    "kot = corr[corr>=.6]\n",
    "plt.figure(figsize=(12,8))\n",
    "sns.heatmap(kot, cmap=\"Greens\")"
   ]
  },
  {
   "cell_type": "code",
   "execution_count": 14,
   "id": "256ad158",
   "metadata": {
    "execution": {
     "iopub.execute_input": "2021-12-22T04:39:01.238998Z",
     "iopub.status.busy": "2021-12-22T04:39:01.238044Z",
     "iopub.status.idle": "2021-12-22T04:39:01.254984Z",
     "shell.execute_reply": "2021-12-22T04:39:01.255570Z",
     "shell.execute_reply.started": "2021-12-20T16:40:19.195463Z"
    },
    "papermill": {
     "duration": 0.056138,
     "end_time": "2021-12-22T04:39:01.255760",
     "exception": false,
     "start_time": "2021-12-22T04:39:01.199622",
     "status": "completed"
    },
    "tags": []
   },
   "outputs": [
    {
     "data": {
      "text/plain": [
       "diabetes       glucose       0.605705\n",
       "prevalentHyp   diaBP         0.615751\n",
       "               sysBP         0.696755\n",
       "currentSmoker  cigsPerDay    0.766970\n",
       "sysBP          diaBP         0.784002\n",
       "male           male               NaN\n",
       "dtype: float64"
      ]
     },
     "execution_count": 14,
     "metadata": {},
     "output_type": "execute_result"
    }
   ],
   "source": [
    "def corrFilter(x: pd.DataFrame, bound: float):\n",
    "    xCorr = x.corr()\n",
    "    xFiltered = xCorr[((xCorr >= bound) | (xCorr <= -bound)) & (xCorr !=1.000)]\n",
    "    xFlattened = xFiltered.unstack().sort_values().drop_duplicates()\n",
    "    return xFlattened\n",
    "\n",
    "corrFilter(df, .5)"
   ]
  },
  {
   "cell_type": "code",
   "execution_count": 15,
   "id": "ea337996",
   "metadata": {
    "execution": {
     "iopub.execute_input": "2021-12-22T04:39:01.335440Z",
     "iopub.status.busy": "2021-12-22T04:39:01.334510Z",
     "iopub.status.idle": "2021-12-22T04:39:01.344851Z",
     "shell.execute_reply": "2021-12-22T04:39:01.345441Z",
     "shell.execute_reply.started": "2021-12-20T16:40:25.800239Z"
    },
    "papermill": {
     "duration": 0.057616,
     "end_time": "2021-12-22T04:39:01.345628",
     "exception": false,
     "start_time": "2021-12-22T04:39:01.288012",
     "status": "completed"
    },
    "tags": []
   },
   "outputs": [
    {
     "data": {
      "text/html": [
       "<div>\n",
       "<style scoped>\n",
       "    .dataframe tbody tr th:only-of-type {\n",
       "        vertical-align: middle;\n",
       "    }\n",
       "\n",
       "    .dataframe tbody tr th {\n",
       "        vertical-align: top;\n",
       "    }\n",
       "\n",
       "    .dataframe thead th {\n",
       "        text-align: right;\n",
       "    }\n",
       "</style>\n",
       "<table border=\"1\" class=\"dataframe\">\n",
       "  <thead>\n",
       "    <tr style=\"text-align: right;\">\n",
       "      <th></th>\n",
       "      <th>male</th>\n",
       "      <th>age</th>\n",
       "      <th>education</th>\n",
       "      <th>cigsPerDay</th>\n",
       "      <th>BPMeds</th>\n",
       "      <th>prevalentStroke</th>\n",
       "      <th>prevalentHyp</th>\n",
       "      <th>diabetes</th>\n",
       "      <th>totChol</th>\n",
       "      <th>BMI</th>\n",
       "      <th>heartRate</th>\n",
       "      <th>glucose</th>\n",
       "      <th>TenYearCHD</th>\n",
       "    </tr>\n",
       "  </thead>\n",
       "  <tbody>\n",
       "    <tr>\n",
       "      <th>0</th>\n",
       "      <td>1</td>\n",
       "      <td>39</td>\n",
       "      <td>4.0</td>\n",
       "      <td>0.0</td>\n",
       "      <td>0.0</td>\n",
       "      <td>0</td>\n",
       "      <td>0</td>\n",
       "      <td>0</td>\n",
       "      <td>195.0</td>\n",
       "      <td>26.97</td>\n",
       "      <td>80.0</td>\n",
       "      <td>77.0</td>\n",
       "      <td>0</td>\n",
       "    </tr>\n",
       "    <tr>\n",
       "      <th>1</th>\n",
       "      <td>0</td>\n",
       "      <td>46</td>\n",
       "      <td>2.0</td>\n",
       "      <td>0.0</td>\n",
       "      <td>0.0</td>\n",
       "      <td>0</td>\n",
       "      <td>0</td>\n",
       "      <td>0</td>\n",
       "      <td>250.0</td>\n",
       "      <td>28.73</td>\n",
       "      <td>95.0</td>\n",
       "      <td>76.0</td>\n",
       "      <td>0</td>\n",
       "    </tr>\n",
       "    <tr>\n",
       "      <th>2</th>\n",
       "      <td>1</td>\n",
       "      <td>48</td>\n",
       "      <td>1.0</td>\n",
       "      <td>20.0</td>\n",
       "      <td>0.0</td>\n",
       "      <td>0</td>\n",
       "      <td>0</td>\n",
       "      <td>0</td>\n",
       "      <td>245.0</td>\n",
       "      <td>25.34</td>\n",
       "      <td>75.0</td>\n",
       "      <td>70.0</td>\n",
       "      <td>0</td>\n",
       "    </tr>\n",
       "    <tr>\n",
       "      <th>3</th>\n",
       "      <td>0</td>\n",
       "      <td>61</td>\n",
       "      <td>3.0</td>\n",
       "      <td>30.0</td>\n",
       "      <td>0.0</td>\n",
       "      <td>0</td>\n",
       "      <td>1</td>\n",
       "      <td>0</td>\n",
       "      <td>225.0</td>\n",
       "      <td>28.58</td>\n",
       "      <td>65.0</td>\n",
       "      <td>103.0</td>\n",
       "      <td>1</td>\n",
       "    </tr>\n",
       "    <tr>\n",
       "      <th>4</th>\n",
       "      <td>0</td>\n",
       "      <td>46</td>\n",
       "      <td>3.0</td>\n",
       "      <td>23.0</td>\n",
       "      <td>0.0</td>\n",
       "      <td>0</td>\n",
       "      <td>0</td>\n",
       "      <td>0</td>\n",
       "      <td>285.0</td>\n",
       "      <td>23.10</td>\n",
       "      <td>85.0</td>\n",
       "      <td>85.0</td>\n",
       "      <td>0</td>\n",
       "    </tr>\n",
       "  </tbody>\n",
       "</table>\n",
       "</div>"
      ],
      "text/plain": [
       "   male  age  education  cigsPerDay  BPMeds  prevalentStroke  prevalentHyp  \\\n",
       "0     1   39        4.0         0.0     0.0                0             0   \n",
       "1     0   46        2.0         0.0     0.0                0             0   \n",
       "2     1   48        1.0        20.0     0.0                0             0   \n",
       "3     0   61        3.0        30.0     0.0                0             1   \n",
       "4     0   46        3.0        23.0     0.0                0             0   \n",
       "\n",
       "   diabetes  totChol    BMI  heartRate  glucose  TenYearCHD  \n",
       "0         0    195.0  26.97       80.0     77.0           0  \n",
       "1         0    250.0  28.73       95.0     76.0           0  \n",
       "2         0    245.0  25.34       75.0     70.0           0  \n",
       "3         0    225.0  28.58       65.0    103.0           1  \n",
       "4         0    285.0  23.10       85.0     85.0           0  "
      ]
     },
     "execution_count": 15,
     "metadata": {},
     "output_type": "execute_result"
    }
   ],
   "source": [
    "df = df.drop(['diaBP', 'sysBP', 'currentSmoker'], axis=True)\n",
    "df.head()"
   ]
  },
  {
   "cell_type": "code",
   "execution_count": 16,
   "id": "7889664f",
   "metadata": {
    "execution": {
     "iopub.execute_input": "2021-12-22T04:39:01.416547Z",
     "iopub.status.busy": "2021-12-22T04:39:01.415795Z",
     "iopub.status.idle": "2021-12-22T04:39:01.427785Z",
     "shell.execute_reply": "2021-12-22T04:39:01.428504Z",
     "shell.execute_reply.started": "2021-12-20T16:40:27.257011Z"
    },
    "papermill": {
     "duration": 0.049114,
     "end_time": "2021-12-22T04:39:01.428733",
     "exception": false,
     "start_time": "2021-12-22T04:39:01.379619",
     "status": "completed"
    },
    "tags": []
   },
   "outputs": [
    {
     "data": {
      "text/plain": [
       "diabetes  glucose    0.605705\n",
       "male      male            NaN\n",
       "dtype: float64"
      ]
     },
     "execution_count": 16,
     "metadata": {},
     "output_type": "execute_result"
    }
   ],
   "source": [
    "corrFilter(df, .5)"
   ]
  },
  {
   "cell_type": "code",
   "execution_count": 17,
   "id": "fa5a9c39",
   "metadata": {
    "execution": {
     "iopub.execute_input": "2021-12-22T04:39:01.503278Z",
     "iopub.status.busy": "2021-12-22T04:39:01.498962Z",
     "iopub.status.idle": "2021-12-22T04:39:01.506502Z",
     "shell.execute_reply": "2021-12-22T04:39:01.505920Z",
     "shell.execute_reply.started": "2021-12-20T16:40:30.459658Z"
    },
    "papermill": {
     "duration": 0.044251,
     "end_time": "2021-12-22T04:39:01.506667",
     "exception": false,
     "start_time": "2021-12-22T04:39:01.462416",
     "status": "completed"
    },
    "tags": []
   },
   "outputs": [],
   "source": [
    "X = df.drop(['diabetes'], axis=1)\n",
    "y = df['diabetes']"
   ]
  },
  {
   "cell_type": "code",
   "execution_count": 18,
   "id": "cb77485a",
   "metadata": {
    "execution": {
     "iopub.execute_input": "2021-12-22T04:39:01.579184Z",
     "iopub.status.busy": "2021-12-22T04:39:01.578419Z",
     "iopub.status.idle": "2021-12-22T04:39:01.985928Z",
     "shell.execute_reply": "2021-12-22T04:39:01.985110Z",
     "shell.execute_reply.started": "2021-12-20T16:40:32.055741Z"
    },
    "papermill": {
     "duration": 0.445958,
     "end_time": "2021-12-22T04:39:01.986101",
     "exception": false,
     "start_time": "2021-12-22T04:39:01.540143",
     "status": "completed"
    },
    "tags": []
   },
   "outputs": [],
   "source": [
    "from sklearn.preprocessing import StandardScaler \n",
    "from sklearn.linear_model  import Ridge,Lasso,RidgeCV, LassoCV, ElasticNet, ElasticNetCV, LogisticRegression\n",
    "from sklearn.model_selection import train_test_split\n",
    "from statsmodels.stats.outliers_influence import variance_inflation_factor "
   ]
  },
  {
   "cell_type": "code",
   "execution_count": 19,
   "id": "24cbec07",
   "metadata": {
    "execution": {
     "iopub.execute_input": "2021-12-22T04:39:02.059118Z",
     "iopub.status.busy": "2021-12-22T04:39:02.058040Z",
     "iopub.status.idle": "2021-12-22T04:39:02.067624Z",
     "shell.execute_reply": "2021-12-22T04:39:02.068163Z",
     "shell.execute_reply.started": "2021-12-20T16:40:33.979222Z"
    },
    "papermill": {
     "duration": 0.04834,
     "end_time": "2021-12-22T04:39:02.068342",
     "exception": false,
     "start_time": "2021-12-22T04:39:02.020002",
     "status": "completed"
    },
    "tags": []
   },
   "outputs": [],
   "source": [
    "scalar = StandardScaler()\n",
    "X_scaled = scalar.fit_transform(X)"
   ]
  },
  {
   "cell_type": "code",
   "execution_count": 20,
   "id": "f3b86645",
   "metadata": {
    "execution": {
     "iopub.execute_input": "2021-12-22T04:39:02.142259Z",
     "iopub.status.busy": "2021-12-22T04:39:02.141344Z",
     "iopub.status.idle": "2021-12-22T04:39:02.148117Z",
     "shell.execute_reply": "2021-12-22T04:39:02.147476Z",
     "shell.execute_reply.started": "2021-12-20T16:40:35.86981Z"
    },
    "papermill": {
     "duration": 0.046129,
     "end_time": "2021-12-22T04:39:02.148264",
     "exception": false,
     "start_time": "2021-12-22T04:39:02.102135",
     "status": "completed"
    },
    "tags": []
   },
   "outputs": [],
   "source": [
    "from sklearn.model_selection import train_test_split\n",
    "x_train,x_test,y_train,y_test = train_test_split(X_scaled,y, test_size= 0.25, random_state = 355)"
   ]
  },
  {
   "cell_type": "code",
   "execution_count": 21,
   "id": "b78c01d0",
   "metadata": {
    "execution": {
     "iopub.execute_input": "2021-12-22T04:39:02.221811Z",
     "iopub.status.busy": "2021-12-22T04:39:02.220756Z",
     "iopub.status.idle": "2021-12-22T04:39:02.253590Z",
     "shell.execute_reply": "2021-12-22T04:39:02.254533Z",
     "shell.execute_reply.started": "2021-12-20T16:40:39.194954Z"
    },
    "papermill": {
     "duration": 0.073219,
     "end_time": "2021-12-22T04:39:02.255127",
     "exception": false,
     "start_time": "2021-12-22T04:39:02.181908",
     "status": "completed"
    },
    "tags": []
   },
   "outputs": [
    {
     "data": {
      "text/plain": [
       "LogisticRegression()"
      ]
     },
     "execution_count": 21,
     "metadata": {},
     "output_type": "execute_result"
    }
   ],
   "source": [
    "log_reg = LogisticRegression()\n",
    "\n",
    "log_reg.fit(x_train,y_train)"
   ]
  },
  {
   "cell_type": "code",
   "execution_count": 22,
   "id": "921e205a",
   "metadata": {
    "execution": {
     "iopub.execute_input": "2021-12-22T04:39:02.378821Z",
     "iopub.status.busy": "2021-12-22T04:39:02.377662Z",
     "iopub.status.idle": "2021-12-22T04:39:02.384228Z",
     "shell.execute_reply": "2021-12-22T04:39:02.385205Z",
     "shell.execute_reply.started": "2021-12-20T16:41:05.19868Z"
    },
    "papermill": {
     "duration": 0.065657,
     "end_time": "2021-12-22T04:39:02.385517",
     "exception": false,
     "start_time": "2021-12-22T04:39:02.319860",
     "status": "completed"
    },
    "tags": []
   },
   "outputs": [],
   "source": [
    "y_pred = log_reg.predict(x_test)"
   ]
  },
  {
   "cell_type": "code",
   "execution_count": 23,
   "id": "21dc0a53",
   "metadata": {
    "execution": {
     "iopub.execute_input": "2021-12-22T04:39:02.515426Z",
     "iopub.status.busy": "2021-12-22T04:39:02.514341Z",
     "iopub.status.idle": "2021-12-22T04:39:02.519636Z",
     "shell.execute_reply": "2021-12-22T04:39:02.520226Z",
     "shell.execute_reply.started": "2021-12-20T16:41:42.077141Z"
    },
    "papermill": {
     "duration": 0.06916,
     "end_time": "2021-12-22T04:39:02.520422",
     "exception": false,
     "start_time": "2021-12-22T04:39:02.451262",
     "status": "completed"
    },
    "tags": []
   },
   "outputs": [
    {
     "data": {
      "text/plain": [
       "0.9886792452830189"
      ]
     },
     "execution_count": 23,
     "metadata": {},
     "output_type": "execute_result"
    }
   ],
   "source": [
    "from sklearn.metrics import accuracy_score, confusion_matrix, roc_curve, roc_auc_score\n",
    "\n",
    "accuracy = accuracy_score(y_test,y_pred)\n",
    "accuracy"
   ]
  },
  {
   "cell_type": "code",
   "execution_count": 24,
   "id": "c89f799b",
   "metadata": {
    "execution": {
     "iopub.execute_input": "2021-12-22T04:39:02.591989Z",
     "iopub.status.busy": "2021-12-22T04:39:02.590988Z",
     "iopub.status.idle": "2021-12-22T04:39:02.602022Z",
     "shell.execute_reply": "2021-12-22T04:39:02.601386Z",
     "shell.execute_reply.started": "2021-12-20T16:42:46.875978Z"
    },
    "papermill": {
     "duration": 0.048048,
     "end_time": "2021-12-22T04:39:02.602182",
     "exception": false,
     "start_time": "2021-12-22T04:39:02.554134",
     "status": "completed"
    },
    "tags": []
   },
   "outputs": [
    {
     "data": {
      "text/plain": [
       "array([[1032,    0],\n",
       "       [  12,   16]])"
      ]
     },
     "execution_count": 24,
     "metadata": {},
     "output_type": "execute_result"
    }
   ],
   "source": [
    "# Confusion Matrix\n",
    "conf_mat = confusion_matrix(y_test,y_pred)\n",
    "conf_mat"
   ]
  },
  {
   "cell_type": "code",
   "execution_count": 25,
   "id": "e044ebed",
   "metadata": {
    "execution": {
     "iopub.execute_input": "2021-12-22T04:39:02.674651Z",
     "iopub.status.busy": "2021-12-22T04:39:02.673905Z",
     "iopub.status.idle": "2021-12-22T04:39:02.678307Z",
     "shell.execute_reply": "2021-12-22T04:39:02.678936Z",
     "shell.execute_reply.started": "2021-12-20T16:42:53.230865Z"
    },
    "papermill": {
     "duration": 0.042096,
     "end_time": "2021-12-22T04:39:02.679133",
     "exception": false,
     "start_time": "2021-12-22T04:39:02.637037",
     "status": "completed"
    },
    "tags": []
   },
   "outputs": [],
   "source": [
    "true_positive = conf_mat[0][0]\n",
    "false_positive = conf_mat[0][1]\n",
    "false_negative = conf_mat[1][0]\n",
    "true_negative = conf_mat[1][1]"
   ]
  },
  {
   "cell_type": "code",
   "execution_count": 26,
   "id": "1877821d",
   "metadata": {
    "execution": {
     "iopub.execute_input": "2021-12-22T04:39:02.752117Z",
     "iopub.status.busy": "2021-12-22T04:39:02.751471Z",
     "iopub.status.idle": "2021-12-22T04:39:02.756938Z",
     "shell.execute_reply": "2021-12-22T04:39:02.757515Z",
     "shell.execute_reply.started": "2021-12-20T16:42:57.78995Z"
    },
    "papermill": {
     "duration": 0.043073,
     "end_time": "2021-12-22T04:39:02.757694",
     "exception": false,
     "start_time": "2021-12-22T04:39:02.714621",
     "status": "completed"
    },
    "tags": []
   },
   "outputs": [
    {
     "data": {
      "text/plain": [
       "0.9885057471264368"
      ]
     },
     "execution_count": 26,
     "metadata": {},
     "output_type": "execute_result"
    }
   ],
   "source": [
    "# Recall\n",
    "Recall = true_positive/(true_positive+false_negative)\n",
    "Recall"
   ]
  },
  {
   "cell_type": "code",
   "execution_count": 27,
   "id": "d2a8313b",
   "metadata": {
    "execution": {
     "iopub.execute_input": "2021-12-22T04:39:02.832909Z",
     "iopub.status.busy": "2021-12-22T04:39:02.832226Z",
     "iopub.status.idle": "2021-12-22T04:39:02.837389Z",
     "shell.execute_reply": "2021-12-22T04:39:02.837928Z",
     "shell.execute_reply.started": "2021-12-20T16:43:14.615813Z"
    },
    "papermill": {
     "duration": 0.045561,
     "end_time": "2021-12-22T04:39:02.838101",
     "exception": false,
     "start_time": "2021-12-22T04:39:02.792540",
     "status": "completed"
    },
    "tags": []
   },
   "outputs": [
    {
     "data": {
      "text/plain": [
       "1.0"
      ]
     },
     "execution_count": 27,
     "metadata": {},
     "output_type": "execute_result"
    }
   ],
   "source": [
    "# Precison\n",
    "Precision = true_positive/(true_positive+false_positive)\n",
    "Precision"
   ]
  },
  {
   "cell_type": "code",
   "execution_count": 28,
   "id": "6c556a57",
   "metadata": {
    "execution": {
     "iopub.execute_input": "2021-12-22T04:39:02.912752Z",
     "iopub.status.busy": "2021-12-22T04:39:02.911711Z",
     "iopub.status.idle": "2021-12-22T04:39:02.917922Z",
     "shell.execute_reply": "2021-12-22T04:39:02.918549Z",
     "shell.execute_reply.started": "2021-12-20T16:43:45.000335Z"
    },
    "papermill": {
     "duration": 0.045746,
     "end_time": "2021-12-22T04:39:02.918743",
     "exception": false,
     "start_time": "2021-12-22T04:39:02.872997",
     "status": "completed"
    },
    "tags": []
   },
   "outputs": [
    {
     "data": {
      "text/plain": [
       "0.9942196531791908"
      ]
     },
     "execution_count": 28,
     "metadata": {},
     "output_type": "execute_result"
    }
   ],
   "source": [
    "# F1 Score\n",
    "F1_Score = 2*(Recall * Precision) / (Recall + Precision)\n",
    "F1_Score"
   ]
  },
  {
   "cell_type": "code",
   "execution_count": 29,
   "id": "5b392616",
   "metadata": {
    "execution": {
     "iopub.execute_input": "2021-12-22T04:39:02.994434Z",
     "iopub.status.busy": "2021-12-22T04:39:02.993394Z",
     "iopub.status.idle": "2021-12-22T04:39:03.008963Z",
     "shell.execute_reply": "2021-12-22T04:39:03.010052Z",
     "shell.execute_reply.started": "2021-12-20T16:49:03.726571Z"
    },
    "papermill": {
     "duration": 0.05587,
     "end_time": "2021-12-22T04:39:03.010343",
     "exception": false,
     "start_time": "2021-12-22T04:39:02.954473",
     "status": "completed"
    },
    "tags": []
   },
   "outputs": [
    {
     "data": {
      "text/plain": [
       "0.986469477658905"
      ]
     },
     "execution_count": 29,
     "metadata": {},
     "output_type": "execute_result"
    }
   ],
   "source": [
    "# predict the train data\n",
    "predictions = log_reg.predict(x_train)\n",
    "# score the train data\n",
    "score = log_reg.score(x_train, y_train)\n",
    "score"
   ]
  }
 ],
 "metadata": {
  "kernelspec": {
   "display_name": "Python 3",
   "language": "python",
   "name": "python3"
  },
  "language_info": {
   "codemirror_mode": {
    "name": "ipython",
    "version": 3
   },
   "file_extension": ".py",
   "mimetype": "text/x-python",
   "name": "python",
   "nbconvert_exporter": "python",
   "pygments_lexer": "ipython3",
   "version": "3.7.12"
  },
  "papermill": {
   "default_parameters": {},
   "duration": 17.111266,
   "end_time": "2021-12-22T04:39:03.894023",
   "environment_variables": {},
   "exception": null,
   "input_path": "__notebook__.ipynb",
   "output_path": "__notebook__.ipynb",
   "parameters": {},
   "start_time": "2021-12-22T04:38:46.782757",
   "version": "2.3.3"
  }
 },
 "nbformat": 4,
 "nbformat_minor": 5
}
